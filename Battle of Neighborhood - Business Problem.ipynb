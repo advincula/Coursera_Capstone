{
 "cells": [
  {
   "cell_type": "markdown",
   "metadata": {},
   "source": [
    "# Capstone Project - Battle of Neighborhoods\n",
    "\n",
    "### Business Problem\n",
    "\n",
    "<b>Target Audience</b><br>\n",
    "Investors who plan to engage in a new restaurant business venture in New York City area who has great selection of food to offer but has concerns with going ahead with the investment due to lack of understanding of the neighborhood targeted for the start-up.\n",
    "\n",
    "<b>Problem to Solve</b><br>\n",
    "Figure out the neighborhood to open the restaurant which significantly provide the best chance for the business to succeed. The concern is due to research findings by US Small Business Administration (SBA) that 30% of new business fails in the first 2 years, 50% in 5 years and 66% in 10 years. \n",
    "\n",
    "The SBA findings should make it a necessity for new business investors to include and consider location data analysis in their research when putting up a business. Investors needs to get a good insight of the neighborhood the business will operate. For a new business venture such as a Restaurant to be viable, an investor has to ensure neighborhood is located in high foot traffic area with good proximity to city center. Investor also needs to be critical to population and crime trends. \n",
    "\n",
    "To address these concerns, an exploratory data analysis will be conducted on all of the New York City boroughs using NYC Open Data containing historical crime, population and housing data. After getting a better insight of the boroughs, segmentation and clustering will be conducted on its underlying neighborhood using the neighborhood’s social networking data made available by Foursquare API to figure out the ideal location for the business.\n",
    "\n",
    "<b>Why Target Audience Would Care</b><br>\n",
    "Restaurant business investors will find the result of the analysis invaluable as a good insight of the neighborhood provides for them the information to anticipate and better manage some of the risks that goes along with a new business start-up."
   ]
  },
  {
   "cell_type": "markdown",
   "metadata": {},
   "source": [
    "<img src=\"https://raw.githubusercontent.com/advincula/coursera_capstone/master/nyc.jpg\">"
   ]
  }
 ],
 "metadata": {
  "kernelspec": {
   "display_name": "Python 3",
   "language": "python",
   "name": "python3"
  },
  "language_info": {
   "codemirror_mode": {
    "name": "ipython",
    "version": 3
   },
   "file_extension": ".py",
   "mimetype": "text/x-python",
   "name": "python",
   "nbconvert_exporter": "python",
   "pygments_lexer": "ipython3",
   "version": "3.6.6"
  }
 },
 "nbformat": 4,
 "nbformat_minor": 2
}
